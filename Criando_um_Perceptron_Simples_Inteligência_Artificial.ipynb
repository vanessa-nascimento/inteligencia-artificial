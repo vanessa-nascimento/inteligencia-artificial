{
  "nbformat": 4,
  "nbformat_minor": 0,
  "metadata": {
    "colab": {
      "name": "Criando um Perceptron Simples - Inteligência Artificial.ipynb",
      "provenance": [],
      "collapsed_sections": [],
      "authorship_tag": "ABX9TyMUm9pz0+3moF9KtErJ+yTp",
      "include_colab_link": true
    },
    "kernelspec": {
      "name": "python3",
      "display_name": "Python 3"
    },
    "language_info": {
      "name": "python"
    }
  },
  "cells": [
    {
      "cell_type": "markdown",
      "metadata": {
        "id": "view-in-github",
        "colab_type": "text"
      },
      "source": [
        "<a href=\"https://colab.research.google.com/github/vanessa-nascimento/inteligencia-artificial/blob/main/Criando_um_Perceptron_Simples_Intelig%C3%AAncia_Artificial.ipynb\" target=\"_parent\"><img src=\"https://colab.research.google.com/assets/colab-badge.svg\" alt=\"Open In Colab\"/></a>"
      ]
    },
    {
      "cell_type": "markdown",
      "source": [
        "# Implementando um Perceptron Simples"
      ],
      "metadata": {
        "id": "zV5voglDGCSL"
      }
    },
    {
      "cell_type": "code",
      "execution_count": null,
      "metadata": {
        "id": "LTV7w2JkGBLL"
      },
      "outputs": [],
      "source": [
        "from matplotlib.colors import ListedColormap\n",
        "import matplotlib.pyplot as plt\n",
        "import numpy as np\n",
        "import pandas as pd"
      ]
    },
    {
      "cell_type": "code",
      "source": [
        "df = pd.read_csv('https://archive.ics.uci.edu/ml/machine-learning-databases/iris/iris.data', header=None)\n",
        "\n",
        "df.tail()\n",
        "\n",
        "y = df.iloc[0:100, 4].values\n",
        "y = np.where(y == 'Iris-setosa', -1, 1)\n",
        "\n",
        "X = df.iloc[0:100, [0, 2]].values"
      ],
      "metadata": {
        "id": "_V1wyM8zKOMC"
      },
      "execution_count": null,
      "outputs": []
    },
    {
      "cell_type": "code",
      "source": [
        "#o que eu quero que meu perceptron aprenda\n",
        "\n",
        "plt.scatter(X[:50, 0], X[:50, 1], color='red', marker='o', label='setosa')\n",
        "plt.scatter(X[50:100, 0], X[50:100, 1], color='blue', marker='x', label='versicolor')\n",
        "\n",
        "plt.xlabel('tamanho da pétala')\n",
        "plt.ylabel('tamanho da sépala')\n",
        "\n",
        "plt.legend(loc='upper left')\n",
        "plt.show()"
      ],
      "metadata": {
        "colab": {
          "base_uri": "https://localhost:8080/",
          "height": 280
        },
        "id": "OKlRXktILKdm",
        "outputId": "5733d040-9d36-4427-d022-00485673a6eb"
      },
      "execution_count": null,
      "outputs": [
        {
          "output_type": "display_data",
          "data": {
            "text/plain": [
              "<Figure size 432x288 with 1 Axes>"
            ],
            "image/png": "[encoded data removed]"
          },
          "metadata": {
            "needs_background": "light"
          }
        }
      ]
    },
    {
      "cell_type": "code",
      "source": [
        "class Perceptron:\n",
        "  def __init__(self, taxaApredizado=0.001, epocas=10):\n",
        "    self.taxaApredizado = taxaApredizado\n",
        "    self.epocas = epocas\n",
        "  \n",
        "  def treinamento(self, entradas, rotulos):\n",
        "    self.pesos_ = np.zeros(1 + entradas.shape[1])\n",
        "    self.erros_ = []\n",
        "\n",
        "    for _ in range(self.epocas):\n",
        "      erros = 0\n",
        "\n",
        "      for entrada, rotulo in zip(entradas, rotulos):\n",
        "        atual = self.taxaApredizado * (rotulo - self.ativacao(entrada))\n",
        "        self.pesos_[1:] += atual * entrada\n",
        "        self.pesos_[0] += atual\n",
        "        erros += int(atual != 0.0)\n",
        "      self.erros_.append(erros)\n",
        "\n",
        "  def ativacao(self, entrada):\n",
        "    return np.where(self.agregadora(entrada) >= 0.0, 1, -1)\n",
        "  def agregadora(self, entrada):\n",
        "    return np.dot(entrada, self.pesos_[1:]) + self.pesos_[0]"
      ],
      "metadata": {
        "id": "PWjljnBWGezs"
      },
      "execution_count": null,
      "outputs": []
    },
    {
      "cell_type": "code",
      "source": [
        "#passei os dados das flores para o perceptron\n",
        "ppn = Perceptron(taxaApredizado=0.1, epocas=10)\n",
        "ppn.treinamento(X,y)"
      ],
      "metadata": {
        "id": "IK--u60hNWfn"
      },
      "execution_count": null,
      "outputs": []
    },
    {
      "cell_type": "code",
      "source": [
        "def plot_decision_regions(X, y, classificador, resolucao=0.02):\n",
        "  markers = ('s', 'x', 'o', 'ˆ', 'v')\n",
        "  colors = ('red', 'blue', 'lightgreen', 'grey', 'cyan')\n",
        "  cmap = ListedColormap(colors[:len(np.unique(y))])\n",
        "\n",
        "  x1_min, x1_max = X[:, 0].min() - 1, X[:, 0].max() + 1\n",
        "  x2_min, x2_max = X[:, 1].min() - 1, X[:, 1].max() + 1\n",
        "\n",
        "  xx1, xx2 = np.meshgrid(np.arange(x1_min, x1_max, resolucao), np.arange(x2_min, x2_max, resolucao))\n",
        "\n",
        "  Z = classificador.ativacao(np.array([xx1.ravel(), xx2.ravel()]).T)\n",
        "  Z = Z.reshape(xx1.shape)\n",
        "  plt.contourf(xx1, xx2, Z, alpha=0.4, cmap = cmap)\n",
        "\n",
        "  for idx, cl in enumerate(np.unique(y)):\n",
        "    plt.scatter(x=X[y == cl, 0], y=X[y == cl, 1], alpha=0.8, c=cmap(idx), marker=markers[idx], label=cl)"
      ],
      "metadata": {
        "id": "v7RNNidNOJKG"
      },
      "execution_count": null,
      "outputs": []
    },
    {
      "cell_type": "code",
      "source": [
        "plot_decision_regions(X, y, ppn)\n",
        "plt.xlabel('tamanho da pétala [cm]')\n",
        "plt.ylabel('tamanho da sépala [cm]')\n",
        "\n",
        "plt.legend(loc='upper left')\n",
        "plt.show()"
      ],
      "metadata": {
        "colab": {
          "base_uri": "https://localhost:8080/",
          "height": 337
        },
        "id": "i6wxFLQUoFqQ",
        "outputId": "5e939128-1336-4e68-96a9-e4e060d9efef"
      },
      "execution_count": null,
      "outputs": [
        {
          "output_type": "stream",
          "name": "stderr",
          "text": [
            "*c* argument looks like a single numeric RGB or RGBA sequence, which should be avoided as value-mapping will have precedence in case its length matches with *x* & *y*.  Please use the *color* keyword-argument or provide a 2-D array with a single row if you intend to specify the same RGB or RGBA value for all points.\n",
            "*c* argument looks like a single numeric RGB or RGBA sequence, which should be avoided as value-mapping will have precedence in case its length matches with *x* & *y*.  Please use the *color* keyword-argument or provide a 2-D array with a single row if you intend to specify the same RGB or RGBA value for all points.\n"
          ]
        },
        {
          "output_type": "display_data",
          "data": {
            "text/plain": [
              "<Figure size 432x288 with 1 Axes>"
            ],
            "image/png": "[encoded data removed]"
          },
          "metadata": {
            "needs_background": "light"
          }
        }
      ]
    },
    {
      "cell_type": "code",
      "source": [
        "#taxa de erro\n",
        "plt.plot(range(1, len(ppn.erros_) + 1), ppn.erros_, marker='o')\n",
        "plt.xlabel('Épocas')\n",
        "plt.ylabel('Taxa de erro')\n",
        "\n",
        "plt.show()"
      ],
      "metadata": {
        "colab": {
          "base_uri": "https://localhost:8080/",
          "height": 281
        },
        "id": "N9V2J1a6p-tE",
        "outputId": "c0c092dd-4f4a-4573-d0ed-68ff7a8f2a5d"
      },
      "execution_count": null,
      "outputs": [
        {
          "output_type": "display_data",
          "data": {
            "text/plain": [
              "<Figure size 432x288 with 1 Axes>"
            ],
            "image/png": "[encoded data removed]"
          },
          "metadata": {
            "needs_background": "light"
          }
        }
      ]
    }
  ]
}